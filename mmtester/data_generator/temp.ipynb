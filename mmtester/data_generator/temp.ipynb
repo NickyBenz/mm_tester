{
 "cells": [
  {
   "cell_type": "code",
   "execution_count": 1,
   "id": "8408b46e",
   "metadata": {},
   "outputs": [],
   "source": [
    "import pandas as pd"
   ]
  },
  {
   "cell_type": "code",
   "execution_count": 2,
   "id": "616a4e62",
   "metadata": {},
   "outputs": [],
   "source": [
    "df = pd.read_csv(\"data.csv\", header=0, index_col=0, parse_dates=[0])"
   ]
  },
  {
   "cell_type": "code",
   "execution_count": 3,
   "id": "08940179",
   "metadata": {},
   "outputs": [
    {
     "name": "stdout",
     "output_type": "stream",
     "text": [
      "Index(['perp_bid', 'perp_ask', 'perp_mid', 'perp_featdummy'], dtype='object')\n"
     ]
    }
   ],
   "source": [
    "print(df.columns)"
   ]
  },
  {
   "cell_type": "code",
   "execution_count": 4,
   "id": "b14a1f63",
   "metadata": {},
   "outputs": [],
   "source": [
    "cols = list(df.columns)\n",
    "for col in cols:\n",
    "    if col not in ['perp_mid', 'perp_bid', 'perp_ask', 'future_mid', 'future_bid', 'future_ask']:\n",
    "        if \"feat_\" not in col:\n",
    "            df.rename(columns={col:'feat_' + col}, inplace=True)\n",
    "df.to_csv('data.csv', header=True)"
   ]
  },
  {
   "cell_type": "code",
   "execution_count": 6,
   "id": "091fed80",
   "metadata": {},
   "outputs": [
    {
     "name": "stdout",
     "output_type": "stream",
     "text": [
      "DatetimeIndex(['2023-01-09 00:00:00.229000', '2023-01-09 00:00:00.333000',\n",
      "               '2023-01-09 00:00:00.449000', '2023-01-09 00:00:00.518000',\n",
      "               '2023-01-09 00:00:00.643000', '2023-01-09 00:00:00.748000',\n",
      "               '2023-01-09 00:00:00.848000', '2023-01-09 00:00:00.948000',\n",
      "               '2023-01-09 00:00:01.050000', '2023-01-09 00:00:01.121000',\n",
      "               ...\n",
      "               '2023-01-12 23:59:58.997000', '2023-01-12 23:59:59.124000',\n",
      "               '2023-01-12 23:59:59.278000', '2023-01-12 23:59:59.359000',\n",
      "               '2023-01-12 23:59:59.483000', '2023-01-12 23:59:59.588000',\n",
      "               '2023-01-12 23:59:59.605000', '2023-01-12 23:59:59.727000',\n",
      "               '2023-01-12 23:59:59.798000', '2023-01-12 23:59:59.899000'],\n",
      "              dtype='datetime64[ns]', name='date', length=2740628, freq=None)\n"
     ]
    }
   ],
   "source": [
    "print(df.index)"
   ]
  },
  {
   "cell_type": "code",
   "execution_count": null,
   "id": "e077abd0",
   "metadata": {},
   "outputs": [],
   "source": []
  }
 ],
 "metadata": {
  "kernelspec": {
   "display_name": "Python 3 (ipykernel)",
   "language": "python",
   "name": "python3"
  },
  "language_info": {
   "codemirror_mode": {
    "name": "ipython",
    "version": 3
   },
   "file_extension": ".py",
   "mimetype": "text/x-python",
   "name": "python",
   "nbconvert_exporter": "python",
   "pygments_lexer": "ipython3",
   "version": "3.10.9"
  }
 },
 "nbformat": 4,
 "nbformat_minor": 5
}
