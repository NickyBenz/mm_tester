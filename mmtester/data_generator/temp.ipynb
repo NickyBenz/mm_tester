{
 "cells": [
  {
   "cell_type": "code",
   "execution_count": 1,
   "id": "8408b46e",
   "metadata": {},
   "outputs": [],
   "source": [
    "import pandas as pd"
   ]
  },
  {
   "cell_type": "code",
   "execution_count": 2,
   "id": "616a4e62",
   "metadata": {},
   "outputs": [],
   "source": [
    "df = pd.read_csv(\"data.csv\", header=0, index_col=0, parse_dates=[0])"
   ]
  },
  {
   "cell_type": "code",
   "execution_count": 3,
   "id": "08940179",
   "metadata": {},
   "outputs": [
    {
     "name": "stdout",
     "output_type": "stream",
     "text": [
      "Index(['perp_mid', 'perp_bid', 'perp_ask', 'spread', 'bid_ask_imbalance_3',\n",
      "       'weighted_imbalance_3', 'ob_slope_3', 'depth_spread_3',\n",
      "       'bid_ask_imbalance_5', 'weighted_imbalance_5', 'ob_slope_5',\n",
      "       'depth_spread_5', 'bid_ask_imbalance_8', 'weighted_imbalance_8',\n",
      "       'ob_slope_8', 'depth_spread_8', 'bid_ask_imbalance_12',\n",
      "       'weighted_imbalance_12', 'ob_slope_12', 'depth_spread_12',\n",
      "       'feat_mdma_300', 'feat_mdema_300', 'feat_mdvol_300', 'feat_spma_300',\n",
      "       'feat_spema_300', 'feat_spvol_300', 'feat_mdma_600', 'feat_mdema_600',\n",
      "       'feat_mdvol_600', 'feat_spma_600', 'feat_spema_600', 'feat_spvol_600',\n",
      "       'feat_mdma_1200', 'feat_mdema_1200', 'feat_mdvol_1200',\n",
      "       'feat_spma_1200', 'feat_spema_1200', 'feat_spvol_1200', 'future_bid',\n",
      "       'future_ask', 'future_mid'],\n",
      "      dtype='object')\n"
     ]
    }
   ],
   "source": [
    "print(df.columns)"
   ]
  },
  {
   "cell_type": "code",
   "execution_count": 7,
   "id": "b14a1f63",
   "metadata": {},
   "outputs": [],
   "source": [
    "cols = list(df.columns)\n",
    "for col in cols:\n",
    "    if col not in ['perp_mid', 'perp_bid', 'perp_ask', 'future_mid', 'future_bid', 'future_ask']:\n",
    "        if \"feat_\" not in col:\n",
    "            df.rename(columns={col:'feat_' + col}, inplace=True)\n",
    "df.to_csv('data.csv', header=True)"
   ]
  },
  {
   "cell_type": "code",
   "execution_count": 8,
   "id": "091fed80",
   "metadata": {},
   "outputs": [
    {
     "name": "stdout",
     "output_type": "stream",
     "text": [
      "Index(['perp_mid', 'perp_bid', 'perp_ask', 'feat_spread',\n",
      "       'feat_bid_ask_imbalance_3', 'feat_weighted_imbalance_3',\n",
      "       'feat_ob_slope_3', 'feat_depth_spread_3', 'feat_bid_ask_imbalance_5',\n",
      "       'feat_weighted_imbalance_5', 'feat_ob_slope_5', 'feat_depth_spread_5',\n",
      "       'feat_bid_ask_imbalance_8', 'feat_weighted_imbalance_8',\n",
      "       'feat_ob_slope_8', 'feat_depth_spread_8', 'feat_bid_ask_imbalance_12',\n",
      "       'feat_weighted_imbalance_12', 'feat_ob_slope_12',\n",
      "       'feat_depth_spread_12', 'feat_mdma_300', 'feat_mdema_300',\n",
      "       'feat_mdvol_300', 'feat_spma_300', 'feat_spema_300', 'feat_spvol_300',\n",
      "       'feat_mdma_600', 'feat_mdema_600', 'feat_mdvol_600', 'feat_spma_600',\n",
      "       'feat_spema_600', 'feat_spvol_600', 'feat_mdma_1200', 'feat_mdema_1200',\n",
      "       'feat_mdvol_1200', 'feat_spma_1200', 'feat_spema_1200',\n",
      "       'feat_spvol_1200', 'future_bid', 'future_ask', 'future_mid'],\n",
      "      dtype='object')\n"
     ]
    }
   ],
   "source": [
    "print(df.columns)"
   ]
  },
  {
   "cell_type": "code",
   "execution_count": null,
   "id": "e077abd0",
   "metadata": {},
   "outputs": [],
   "source": []
  }
 ],
 "metadata": {
  "kernelspec": {
   "display_name": "Python 3 (ipykernel)",
   "language": "python",
   "name": "python3"
  },
  "language_info": {
   "codemirror_mode": {
    "name": "ipython",
    "version": 3
   },
   "file_extension": ".py",
   "mimetype": "text/x-python",
   "name": "python",
   "nbconvert_exporter": "python",
   "pygments_lexer": "ipython3",
   "version": "3.10.9"
  }
 },
 "nbformat": 4,
 "nbformat_minor": 5
}
